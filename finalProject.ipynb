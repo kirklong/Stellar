{
 "cells": [
  {
   "cell_type": "code",
   "execution_count": 1,
   "metadata": {},
   "outputs": [
    {
     "data": {
      "text/html": [
       "<div class=\"data-frame\"><p>186,301 rows × 9 columns</p><table class=\"data-frame\"><thead><tr><th></th><th>M</th><th>Mupper</th><th>Mlower</th><th>R</th><th>Rupper</th><th>Rlower</th><th>logρ</th><th>logρUpper</th><th>logρLower</th></tr><tr><th></th><th title=\"Float64\">Float64</th><th title=\"Float64\">Float64</th><th title=\"Float64\">Float64</th><th title=\"Float64\">Float64</th><th title=\"Float64\">Float64</th><th title=\"Float64\">Float64</th><th title=\"Float64\">Float64</th><th title=\"Float64\">Float64</th><th title=\"Float64\">Float64</th></tr></thead><tbody><tr><th>1</th><td>1.396</td><td>0.179</td><td>-0.218</td><td>4.003</td><td>0.139</td><td>-0.148</td><td>-1.672</td><td>-2.375</td><td>-2.402</td></tr><tr><th>2</th><td>0.873</td><td>0.054</td><td>-0.039</td><td>1.068</td><td>0.022</td><td>-0.023</td><td>-0.149</td><td>-1.126</td><td>-1.247</td></tr><tr><th>3</th><td>1.669</td><td>0.309</td><td>-0.3</td><td>13.591</td><td>0.323</td><td>-0.331</td><td>-3.187</td><td>-3.829</td><td>-3.931</td></tr><tr><th>4</th><td>1.715</td><td>0.086</td><td>-0.089</td><td>2.61</td><td>0.071</td><td>-0.067</td><td>-1.022</td><td>-2.009</td><td>-2.058</td></tr><tr><th>5</th><td>0.914</td><td>0.062</td><td>-0.057</td><td>0.957</td><td>0.029</td><td>-0.028</td><td>0.01</td><td>-0.85</td><td>-0.915</td></tr><tr><th>6</th><td>1.411</td><td>0.125</td><td>-0.119</td><td>2.022</td><td>0.279</td><td>-0.262</td><td>-0.798</td><td>-1.159</td><td>-1.352</td></tr><tr><th>7</th><td>1.008</td><td>0.164</td><td>-0.112</td><td>1.347</td><td>0.585</td><td>-0.358</td><td>-0.464</td><td>-0.366</td><td>-0.681</td></tr><tr><th>8</th><td>1.71</td><td>0.708</td><td>-0.402</td><td>15.188</td><td>0.766</td><td>-0.765</td><td>-3.325</td><td>-3.65</td><td>-3.917</td></tr><tr><th>9</th><td>1.245</td><td>0.213</td><td>-0.244</td><td>4.411</td><td>0.13</td><td>-0.124</td><td>-1.844</td><td>-2.526</td><td>-2.508</td></tr><tr><th>10</th><td>0.862</td><td>0.057</td><td>-0.04</td><td>0.998</td><td>0.02</td><td>-0.02</td><td>-0.067</td><td>-1.016</td><td>-1.172</td></tr><tr><th>11</th><td>0.967</td><td>0.073</td><td>-0.074</td><td>1.04</td><td>0.023</td><td>-0.022</td><td>-0.07</td><td>-0.994</td><td>-1.022</td></tr><tr><th>12</th><td>1.548</td><td>0.081</td><td>-0.087</td><td>2.173</td><td>0.06</td><td>-0.058</td><td>-0.828</td><td>-1.806</td><td>-1.841</td></tr><tr><th>13</th><td>1.038</td><td>0.066</td><td>-0.076</td><td>1.08</td><td>0.023</td><td>-0.022</td><td>-0.088</td><td>-1.089</td><td>-1.059</td></tr><tr><th>14</th><td>1.584</td><td>0.071</td><td>-0.062</td><td>3.382</td><td>0.123</td><td>-0.103</td><td>-1.397</td><td>-2.366</td><td>-2.413</td></tr><tr><th>15</th><td>1.731</td><td>0.219</td><td>-0.087</td><td>3.644</td><td>0.117</td><td>-0.111</td><td>-1.451</td><td>-2.196</td><td>-2.404</td></tr><tr><th>16</th><td>0.782</td><td>0.04</td><td>-0.046</td><td>0.758</td><td>0.026</td><td>-0.026</td><td>0.249</td><td>-0.766</td><td>-0.743</td></tr><tr><th>17</th><td>1.508</td><td>0.503</td><td>-0.406</td><td>22.765</td><td>1.376</td><td>-1.189</td><td>-3.909</td><td>-4.284</td><td>-4.446</td></tr><tr><th>18</th><td>1.888</td><td>0.346</td><td>-0.991</td><td>10.1</td><td>0.637</td><td>-0.52</td><td>-2.754</td><td>-3.241</td><td>-3.004</td></tr><tr><th>19</th><td>0.803</td><td>0.039</td><td>-0.032</td><td>0.836</td><td>0.036</td><td>-0.035</td><td>0.129</td><td>-0.736</td><td>-0.821</td></tr><tr><th>20</th><td>1.398</td><td>0.071</td><td>-0.069</td><td>1.875</td><td>0.047</td><td>-0.046</td><td>-0.679</td><td>-1.686</td><td>-1.703</td></tr><tr><th>21</th><td>0.784</td><td>0.04</td><td>-0.045</td><td>0.764</td><td>0.022</td><td>-0.022</td><td>0.241</td><td>-0.805</td><td>-0.791</td></tr><tr><th>22</th><td>0.751</td><td>0.034</td><td>-0.039</td><td>0.728</td><td>0.016</td><td>-0.016</td><td>0.285</td><td>-0.871</td><td>-0.85</td></tr><tr><th>23</th><td>1.001</td><td>0.077</td><td>-0.077</td><td>1.168</td><td>0.073</td><td>-0.068</td><td>-0.216</td><td>-0.883</td><td>-0.968</td></tr><tr><th>24</th><td>1.317</td><td>0.157</td><td>-0.12</td><td>2.185</td><td>0.372</td><td>-0.312</td><td>-0.933</td><td>-1.229</td><td>-1.413</td></tr><tr><th>&vellip;</th><td>&vellip;</td><td>&vellip;</td><td>&vellip;</td><td>&vellip;</td><td>&vellip;</td><td>&vellip;</td><td>&vellip;</td><td>&vellip;</td><td>&vellip;</td></tr></tbody></table></div>"
      ],
      "text/latex": [
       "\\begin{tabular}{r|ccccccccc}\n",
       "\t& M & Mupper & Mlower & R & Rupper & Rlower & logρ & logρUpper & logρLower\\\\\n",
       "\t\\hline\n",
       "\t& Float64 & Float64 & Float64 & Float64 & Float64 & Float64 & Float64 & Float64 & Float64\\\\\n",
       "\t\\hline\n",
       "\t1 & 1.396 & 0.179 & -0.218 & 4.003 & 0.139 & -0.148 & -1.672 & -2.375 & -2.402 \\\\\n",
       "\t2 & 0.873 & 0.054 & -0.039 & 1.068 & 0.022 & -0.023 & -0.149 & -1.126 & -1.247 \\\\\n",
       "\t3 & 1.669 & 0.309 & -0.3 & 13.591 & 0.323 & -0.331 & -3.187 & -3.829 & -3.931 \\\\\n",
       "\t4 & 1.715 & 0.086 & -0.089 & 2.61 & 0.071 & -0.067 & -1.022 & -2.009 & -2.058 \\\\\n",
       "\t5 & 0.914 & 0.062 & -0.057 & 0.957 & 0.029 & -0.028 & 0.01 & -0.85 & -0.915 \\\\\n",
       "\t6 & 1.411 & 0.125 & -0.119 & 2.022 & 0.279 & -0.262 & -0.798 & -1.159 & -1.352 \\\\\n",
       "\t7 & 1.008 & 0.164 & -0.112 & 1.347 & 0.585 & -0.358 & -0.464 & -0.366 & -0.681 \\\\\n",
       "\t8 & 1.71 & 0.708 & -0.402 & 15.188 & 0.766 & -0.765 & -3.325 & -3.65 & -3.917 \\\\\n",
       "\t9 & 1.245 & 0.213 & -0.244 & 4.411 & 0.13 & -0.124 & -1.844 & -2.526 & -2.508 \\\\\n",
       "\t10 & 0.862 & 0.057 & -0.04 & 0.998 & 0.02 & -0.02 & -0.067 & -1.016 & -1.172 \\\\\n",
       "\t11 & 0.967 & 0.073 & -0.074 & 1.04 & 0.023 & -0.022 & -0.07 & -0.994 & -1.022 \\\\\n",
       "\t12 & 1.548 & 0.081 & -0.087 & 2.173 & 0.06 & -0.058 & -0.828 & -1.806 & -1.841 \\\\\n",
       "\t13 & 1.038 & 0.066 & -0.076 & 1.08 & 0.023 & -0.022 & -0.088 & -1.089 & -1.059 \\\\\n",
       "\t14 & 1.584 & 0.071 & -0.062 & 3.382 & 0.123 & -0.103 & -1.397 & -2.366 & -2.413 \\\\\n",
       "\t15 & 1.731 & 0.219 & -0.087 & 3.644 & 0.117 & -0.111 & -1.451 & -2.196 & -2.404 \\\\\n",
       "\t16 & 0.782 & 0.04 & -0.046 & 0.758 & 0.026 & -0.026 & 0.249 & -0.766 & -0.743 \\\\\n",
       "\t17 & 1.508 & 0.503 & -0.406 & 22.765 & 1.376 & -1.189 & -3.909 & -4.284 & -4.446 \\\\\n",
       "\t18 & 1.888 & 0.346 & -0.991 & 10.1 & 0.637 & -0.52 & -2.754 & -3.241 & -3.004 \\\\\n",
       "\t19 & 0.803 & 0.039 & -0.032 & 0.836 & 0.036 & -0.035 & 0.129 & -0.736 & -0.821 \\\\\n",
       "\t20 & 1.398 & 0.071 & -0.069 & 1.875 & 0.047 & -0.046 & -0.679 & -1.686 & -1.703 \\\\\n",
       "\t21 & 0.784 & 0.04 & -0.045 & 0.764 & 0.022 & -0.022 & 0.241 & -0.805 & -0.791 \\\\\n",
       "\t22 & 0.751 & 0.034 & -0.039 & 0.728 & 0.016 & -0.016 & 0.285 & -0.871 & -0.85 \\\\\n",
       "\t23 & 1.001 & 0.077 & -0.077 & 1.168 & 0.073 & -0.068 & -0.216 & -0.883 & -0.968 \\\\\n",
       "\t24 & 1.317 & 0.157 & -0.12 & 2.185 & 0.372 & -0.312 & -0.933 & -1.229 & -1.413 \\\\\n",
       "\t$\\dots$ & $\\dots$ & $\\dots$ & $\\dots$ & $\\dots$ & $\\dots$ & $\\dots$ & $\\dots$ & $\\dots$ & $\\dots$ \\\\\n",
       "\\end{tabular}\n"
      ],
      "text/plain": [
       "\u001b[1m186301×9 DataFrame\u001b[0m\n",
       "\u001b[1m    Row \u001b[0m│\u001b[1m M       \u001b[0m\u001b[1m Mupper  \u001b[0m\u001b[1m Mlower  \u001b[0m\u001b[1m R       \u001b[0m\u001b[1m Rupper  \u001b[0m\u001b[1m Rlower  \u001b[0m\u001b[1m logρ    \u001b[0m\u001b[1m logρU\u001b[0m ⋯\n",
       "\u001b[1m        \u001b[0m│\u001b[90m Float64 \u001b[0m\u001b[90m Float64 \u001b[0m\u001b[90m Float64 \u001b[0m\u001b[90m Float64 \u001b[0m\u001b[90m Float64 \u001b[0m\u001b[90m Float64 \u001b[0m\u001b[90m Float64 \u001b[0m\u001b[90m Float\u001b[0m ⋯\n",
       "────────┼───────────────────────────────────────────────────────────────────────\n",
       "      1 │   1.396    0.179   -0.218    4.003    0.139   -0.148   -1.672     -2 ⋯\n",
       "      2 │   0.873    0.054   -0.039    1.068    0.022   -0.023   -0.149     -1\n",
       "      3 │   1.669    0.309   -0.3     13.591    0.323   -0.331   -3.187     -3\n",
       "      4 │   1.715    0.086   -0.089    2.61     0.071   -0.067   -1.022     -2\n",
       "      5 │   0.914    0.062   -0.057    0.957    0.029   -0.028    0.01      -0 ⋯\n",
       "      6 │   1.411    0.125   -0.119    2.022    0.279   -0.262   -0.798     -1\n",
       "      7 │   1.008    0.164   -0.112    1.347    0.585   -0.358   -0.464     -0\n",
       "      8 │   1.71     0.708   -0.402   15.188    0.766   -0.765   -3.325     -3\n",
       "   ⋮    │    ⋮        ⋮        ⋮        ⋮        ⋮        ⋮        ⋮         ⋮ ⋱\n",
       " 186295 │   0.811    0.048   -0.039    0.832    0.027   -0.026    0.141     -0 ⋯\n",
       " 186296 │   1.139    0.086   -0.07     1.837    0.076   -0.074   -0.745     -1\n",
       " 186297 │   0.933    0.186   -0.074    1.153    0.758   -0.291   -0.321     -0\n",
       " 186298 │   1.073    0.321   -0.181   82.73    11.916  -10.461   -5.733     -6\n",
       " 186299 │   1.156    0.074   -0.093    1.542    0.034   -0.034   -0.506     -1 ⋯\n",
       " 186300 │   1.564    0.358   -0.337   11.444    0.329   -0.27    -3.002     -3\n",
       " 186301 │   0.905    0.054   -0.053    0.916    0.036   -0.036    0.063     -0\n",
       "\u001b[36m                                               2 columns and 186286 rows omitted\u001b[0m"
      ]
     },
     "metadata": {},
     "output_type": "display_data"
    }
   ],
   "source": [
    "#stars from Gaia\n",
    "using DataFrames\n",
    "f = open(\"ajab8a33t2_mrt.txt\")\n",
    "lines = readlines(f)\n",
    "close(f)\n",
    "n = length(lines) - 45\n",
    "gData = zeros(9, n) #M, M upper, M lower, R, R upper, R lower, logρ,logρUpper,logρLower\n",
    "for i = 46:length(lines)\n",
    "    M = parse(Float64, strip(lines[i][10:14]))\n",
    "    Mupper = parse(Float64, strip(lines[i][16:20]))\n",
    "    Mlower = parse(Float64, strip(lines[i][22:27]))\n",
    "    R = parse(Float64, strip(lines[i][92:98]))\n",
    "    Rupper = parse(Float64, strip(lines[i][100:106]))\n",
    "    Rlower = parse(Float64, strip(lines[i][108:115]))\n",
    "    logρ = parse(Float64, strip(lines[i][117:122]))\n",
    "    logρUpper = parse(Float64, strip(lines[i][124:129]))\n",
    "    logρLower = parse(Float64, strip(lines[i][131:136]))\n",
    "    gData[:, i-45] = [M, Mupper, Mlower, R, Rupper, Rlower, logρ, logρUpper, logρLower]\n",
    "end\n",
    "gaia = DataFrame(gData', [\"M\", \"Mupper\", \"Mlower\", \"R\", \"Rupper\", \"Rlower\", \"logρ\", \"logρUpper\", \"logρLower\"])\n"
   ]
  },
  {
   "cell_type": "code",
   "execution_count": 9,
   "metadata": {},
   "outputs": [],
   "source": [
    "using Plots\n",
    "scatter(log.(gaia.M), log.(gaia.R), markershape=:star, label=\"\", markersize=1.0, xlabel=\"log(M/Msun)\", ylabel=\"log(R/Rsun)\", fontsize=16, guidefontsize=12, margins=Plots.Measures.mm * 5,\n",
    "    size=(1280, 720), fontfamily=\"times\", minorgrid=true, minorticks=true, tickdirection=:out, title=\"Gaia stellar data: N = $(length(lines)-46) stars\", markerstrokewidth=0.0)\n",
    "png(\"star.png\")"
   ]
  },
  {
   "cell_type": "code",
   "execution_count": 12,
   "metadata": {},
   "outputs": [
    {
     "data": {
      "text/html": [
       "<div class=\"data-frame\"><p>1,105 rows × 4 columns</p><table class=\"data-frame\"><thead><tr><th></th><th>Rjup</th><th>Mjup</th><th>ρ</th><th>count</th></tr><tr><th></th><th title=\"Float64\">Float64</th><th title=\"Float64\">Float64</th><th title=\"Float64\">Float64</th><th title=\"Float64\">Float64</th></tr></thead><tbody><tr><th>1</th><td>1.664</td><td>8.0</td><td>2.15325</td><td>1.0</td></tr><tr><th>2</th><td>1.44</td><td>13.9</td><td>5.77288</td><td>1.0</td></tr><tr><th>3</th><td>0.92</td><td>20.95</td><td>33.3646</td><td>1.0</td></tr><tr><th>4</th><td>0.176429</td><td>0.0254143</td><td>5.82274</td><td>7.0</td></tr><tr><th>5</th><td>0.369</td><td>0.116745</td><td>2.80988</td><td>2.0</td></tr><tr><th>6</th><td>0.289</td><td>0.04279</td><td>2.19844</td><td>1.0</td></tr><tr><th>7</th><td>0.2145</td><td>0.060645</td><td>7.60298</td><td>2.0</td></tr><tr><th>8</th><td>1.31</td><td>15.0</td><td>8.27451</td><td>1.0</td></tr><tr><th>9</th><td>1.86</td><td>7.8</td><td>1.50321</td><td>1.0</td></tr><tr><th>10</th><td>1.11</td><td>6.3</td><td>5.71264</td><td>1.0</td></tr><tr><th>11</th><td>2.2</td><td>17.0</td><td>1.97991</td><td>1.0</td></tr><tr><th>12</th><td>1.5312</td><td>1.098</td><td>0.385317</td><td>5.0</td></tr><tr><th>13</th><td>0.960333</td><td>2.75333</td><td>3.86122</td><td>3.0</td></tr><tr><th>14</th><td>1.419</td><td>2.445</td><td>1.06244</td><td>4.0</td></tr><tr><th>15</th><td>1.3935</td><td>0.898</td><td>0.413471</td><td>4.0</td></tr><tr><th>16</th><td>1.00733</td><td>1.317</td><td>1.85017</td><td>3.0</td></tr><tr><th>17</th><td>1.066</td><td>7.56333</td><td>7.79975</td><td>3.0</td></tr><tr><th>18</th><td>1.17</td><td>0.532</td><td>0.411926</td><td>2.0</td></tr><tr><th>19</th><td>1.01567</td><td>2.43333</td><td>2.88118</td><td>3.0</td></tr><tr><th>20</th><td>1.25425</td><td>3.375</td><td>2.1533</td><td>4.0</td></tr><tr><th>21</th><td>1.25667</td><td>1.11833</td><td>0.703537</td><td>3.0</td></tr><tr><th>22</th><td>1.45683</td><td>3.43</td><td>1.37633</td><td>6.0</td></tr><tr><th>23</th><td>0.96</td><td>4.4175</td><td>6.71904</td><td>4.0</td></tr><tr><th>24</th><td>1.3</td><td>2.24</td><td>1.2644</td><td>2.0</td></tr><tr><th>&vellip;</th><td>&vellip;</td><td>&vellip;</td><td>&vellip;</td><td>&vellip;</td></tr></tbody></table></div>"
      ],
      "text/latex": [
       "\\begin{tabular}{r|cccc}\n",
       "\t& Rjup & Mjup & ρ & count\\\\\n",
       "\t\\hline\n",
       "\t& Float64 & Float64 & Float64 & Float64\\\\\n",
       "\t\\hline\n",
       "\t1 & 1.664 & 8.0 & 2.15325 & 1.0 \\\\\n",
       "\t2 & 1.44 & 13.9 & 5.77288 & 1.0 \\\\\n",
       "\t3 & 0.92 & 20.95 & 33.3646 & 1.0 \\\\\n",
       "\t4 & 0.176429 & 0.0254143 & 5.82274 & 7.0 \\\\\n",
       "\t5 & 0.369 & 0.116745 & 2.80988 & 2.0 \\\\\n",
       "\t6 & 0.289 & 0.04279 & 2.19844 & 1.0 \\\\\n",
       "\t7 & 0.2145 & 0.060645 & 7.60298 & 2.0 \\\\\n",
       "\t8 & 1.31 & 15.0 & 8.27451 & 1.0 \\\\\n",
       "\t9 & 1.86 & 7.8 & 1.50321 & 1.0 \\\\\n",
       "\t10 & 1.11 & 6.3 & 5.71264 & 1.0 \\\\\n",
       "\t11 & 2.2 & 17.0 & 1.97991 & 1.0 \\\\\n",
       "\t12 & 1.5312 & 1.098 & 0.385317 & 5.0 \\\\\n",
       "\t13 & 0.960333 & 2.75333 & 3.86122 & 3.0 \\\\\n",
       "\t14 & 1.419 & 2.445 & 1.06244 & 4.0 \\\\\n",
       "\t15 & 1.3935 & 0.898 & 0.413471 & 4.0 \\\\\n",
       "\t16 & 1.00733 & 1.317 & 1.85017 & 3.0 \\\\\n",
       "\t17 & 1.066 & 7.56333 & 7.79975 & 3.0 \\\\\n",
       "\t18 & 1.17 & 0.532 & 0.411926 & 2.0 \\\\\n",
       "\t19 & 1.01567 & 2.43333 & 2.88118 & 3.0 \\\\\n",
       "\t20 & 1.25425 & 3.375 & 2.1533 & 4.0 \\\\\n",
       "\t21 & 1.25667 & 1.11833 & 0.703537 & 3.0 \\\\\n",
       "\t22 & 1.45683 & 3.43 & 1.37633 & 6.0 \\\\\n",
       "\t23 & 0.96 & 4.4175 & 6.71904 & 4.0 \\\\\n",
       "\t24 & 1.3 & 2.24 & 1.2644 & 2.0 \\\\\n",
       "\t$\\dots$ & $\\dots$ & $\\dots$ & $\\dots$ & $\\dots$ \\\\\n",
       "\\end{tabular}\n"
      ],
      "text/plain": [
       "\u001b[1m1105×4 DataFrame\u001b[0m\n",
       "\u001b[1m  Row \u001b[0m│\u001b[1m Rjup     \u001b[0m\u001b[1m Mjup       \u001b[0m\u001b[1m ρ         \u001b[0m\u001b[1m count   \u001b[0m\n",
       "\u001b[1m      \u001b[0m│\u001b[90m Float64  \u001b[0m\u001b[90m Float64    \u001b[0m\u001b[90m Float64   \u001b[0m\u001b[90m Float64 \u001b[0m\n",
       "──────┼──────────────────────────────────────────\n",
       "    1 │ 1.664      8.0         2.15325       1.0\n",
       "    2 │ 1.44      13.9         5.77288       1.0\n",
       "    3 │ 0.92      20.95       33.3646        1.0\n",
       "    4 │ 0.176429   0.0254143   5.82274       7.0\n",
       "    5 │ 0.369      0.116745    2.80988       2.0\n",
       "    6 │ 0.289      0.04279     2.19844       1.0\n",
       "    7 │ 0.2145     0.060645    7.60298       2.0\n",
       "    8 │ 1.31      15.0         8.27451       1.0\n",
       "  ⋮   │    ⋮          ⋮           ⋮         ⋮\n",
       " 1099 │ 1.4084    11.172       5.82999       5.0\n",
       " 1100 │ 1.2994     1.576       0.88987       5.0\n",
       " 1101 │ 1.1194     1.1058      0.977723      5.0\n",
       " 1102 │ 2.07       4.4         0.615186      1.0\n",
       " 1103 │ 1.373      0.709       0.339703      1.0\n",
       " 1104 │ 1.575     13.5         4.64067       2.0\n",
       " 1105 │ 0.366      0.02939     5.9514        2.0\n",
       "\u001b[36m                                1090 rows omitted\u001b[0m"
      ]
     },
     "metadata": {},
     "output_type": "display_data"
    }
   ],
   "source": [
    "using CSV\n",
    "exo = DataFrame(CSV.File(\"PS_2022.04.18_13.24.25.csv\", header=102))\n",
    "exoData = zeros(4, length(exo.pl_name))\n",
    "ρ(M, R) = M / (4 / 3 * π * R^3)\n",
    "MJg = 1.89813e30 #g\n",
    "RJcm = 7.1492e9 #cm\n",
    "exoData[:, 1] = [exo.pl_radj[1], exo.pl_bmassj[1], ρ(exo.pl_bmassj[1] * MJg, exo.pl_radj[1] * RJcm), 1]\n",
    "place = 1\n",
    "for i = 2:length(exo.pl_name)\n",
    "    if exo.pl_name[i] == exo.pl_name[i-1]\n",
    "        exoData[:, place] .+= [exo.pl_radj[i], exo.pl_bmassj[i], ρ(exo.pl_bmassj[i] * MJg, exo.pl_radj[i] * RJcm), 1]\n",
    "    else\n",
    "        exoData[1:3, place] ./= exoData[4, place]\n",
    "        place += 1\n",
    "        exoData[:, place] = [exo.pl_radj[i], exo.pl_bmassj[i], ρ(exo.pl_bmassj[i] * MJg, exo.pl_radj[i] * RJcm), 1]\n",
    "    end\n",
    "end\n",
    "exo = DataFrame(exoData[:, 1:place]', [\"Rjup\", \"Mjup\", \"ρ\", \"count\"])"
   ]
  },
  {
   "cell_type": "code",
   "execution_count": 13,
   "metadata": {},
   "outputs": [],
   "source": [
    "using Plots\n",
    "Mratio = 9.5479e-4;\n",
    "Rratio = 0.10045; #jupiter to solar\n",
    "p = scatter(log.(exo.Mjup .* Mratio), log.(exo.Rjup .* Rratio), markershape=:circle, label=\"\", markersize=1.0, xlabel=\"log(M/Msun)\", ylabel=\"log(R/Rsun)\", fontsize=16, guidefontsize=12, margins=Plots.Measures.mm * 5,\n",
    "    size=(1280, 720), fontfamily=\"times\", minorgrid=true, minorticks=true, tickdirection=:out, title=\"Data from exoplanet archive: N = $(length(exo.Rjup)) planets\", markerstrokewidth=0.0)\n",
    "png(\"exo.png\")"
   ]
  },
  {
   "cell_type": "code",
   "execution_count": 35,
   "metadata": {},
   "outputs": [
    {
     "data": {
      "text/html": [
       "<div class=\"data-frame\"><p>1,833 rows × 3 columns</p><table class=\"data-frame\"><thead><tr><th></th><th>M</th><th>R</th><th>ρ</th></tr><tr><th></th><th title=\"Float64\">Float64</th><th title=\"Float64\">Float64</th><th title=\"Float64\">Float64</th></tr></thead><tbody><tr><th>1</th><td>1.181</td><td>0.00589766</td><td>8.11879e6</td></tr><tr><th>2</th><td>1.19</td><td>0.00578698</td><td>8.65908e6</td></tr><tr><th>3</th><td>1.186</td><td>0.00584304</td><td>8.38396e6</td></tr><tr><th>4</th><td>1.158</td><td>0.0061837</td><td>6.90627e6</td></tr><tr><th>5</th><td>1.095</td><td>0.00689953</td><td>4.7015e6</td></tr><tr><th>6</th><td>1.177</td><td>0.00595228</td><td>7.87058e6</td></tr><tr><th>7</th><td>1.172</td><td>0.00600977</td><td>7.61436e6</td></tr><tr><th>8</th><td>1.19</td><td>0.00578698</td><td>8.65908e6</td></tr><tr><th>9</th><td>0.989</td><td>0.0080667</td><td>2.65699e6</td></tr><tr><th>10</th><td>1.117</td><td>0.00665948</td><td>5.3335e6</td></tr><tr><th>11</th><td>1.177</td><td>0.00595228</td><td>7.87058e6</td></tr><tr><th>12</th><td>0.751</td><td>0.0106411</td><td>8.78947e5</td></tr><tr><th>13</th><td>0.745</td><td>0.0107173</td><td>8.53463e5</td></tr><tr><th>14</th><td>1.168</td><td>0.00606871</td><td>7.36944e6</td></tr><tr><th>15</th><td>1.177</td><td>0.00595228</td><td>7.87058e6</td></tr><tr><th>16</th><td>1.195</td><td>0.00572948</td><td>8.95988e6</td></tr><tr><th>17</th><td>1.195</td><td>0.00572948</td><td>8.95988e6</td></tr><tr><th>18</th><td>0.758</td><td>0.0105678</td><td>9.0573e5</td></tr><tr><th>19</th><td>0.989</td><td>0.0080667</td><td>2.65699e6</td></tr><tr><th>20</th><td>1.095</td><td>0.00690096</td><td>4.69856e6</td></tr><tr><th>21</th><td>1.112</td><td>0.00671985</td><td>5.1678e6</td></tr><tr><th>22</th><td>1.182</td><td>0.00589909</td><td>8.11973e6</td></tr><tr><th>23</th><td>1.195</td><td>0.00572948</td><td>8.95988e6</td></tr><tr><th>24</th><td>1.191</td><td>0.00578698</td><td>8.66636e6</td></tr><tr><th>&vellip;</th><td>&vellip;</td><td>&vellip;</td><td>&vellip;</td></tr></tbody></table></div>"
      ],
      "text/latex": [
       "\\begin{tabular}{r|ccc}\n",
       "\t& M & R & ρ\\\\\n",
       "\t\\hline\n",
       "\t& Float64 & Float64 & Float64\\\\\n",
       "\t\\hline\n",
       "\t1 & 1.181 & 0.00589766 & 8.11879e6 \\\\\n",
       "\t2 & 1.19 & 0.00578698 & 8.65908e6 \\\\\n",
       "\t3 & 1.186 & 0.00584304 & 8.38396e6 \\\\\n",
       "\t4 & 1.158 & 0.0061837 & 6.90627e6 \\\\\n",
       "\t5 & 1.095 & 0.00689953 & 4.7015e6 \\\\\n",
       "\t6 & 1.177 & 0.00595228 & 7.87058e6 \\\\\n",
       "\t7 & 1.172 & 0.00600977 & 7.61436e6 \\\\\n",
       "\t8 & 1.19 & 0.00578698 & 8.65908e6 \\\\\n",
       "\t9 & 0.989 & 0.0080667 & 2.65699e6 \\\\\n",
       "\t10 & 1.117 & 0.00665948 & 5.3335e6 \\\\\n",
       "\t11 & 1.177 & 0.00595228 & 7.87058e6 \\\\\n",
       "\t12 & 0.751 & 0.0106411 & 8.78947e5 \\\\\n",
       "\t13 & 0.745 & 0.0107173 & 8.53463e5 \\\\\n",
       "\t14 & 1.168 & 0.00606871 & 7.36944e6 \\\\\n",
       "\t15 & 1.177 & 0.00595228 & 7.87058e6 \\\\\n",
       "\t16 & 1.195 & 0.00572948 & 8.95988e6 \\\\\n",
       "\t17 & 1.195 & 0.00572948 & 8.95988e6 \\\\\n",
       "\t18 & 0.758 & 0.0105678 & 9.0573e5 \\\\\n",
       "\t19 & 0.989 & 0.0080667 & 2.65699e6 \\\\\n",
       "\t20 & 1.095 & 0.00690096 & 4.69856e6 \\\\\n",
       "\t21 & 1.112 & 0.00671985 & 5.1678e6 \\\\\n",
       "\t22 & 1.182 & 0.00589909 & 8.11973e6 \\\\\n",
       "\t23 & 1.195 & 0.00572948 & 8.95988e6 \\\\\n",
       "\t24 & 1.191 & 0.00578698 & 8.66636e6 \\\\\n",
       "\t$\\dots$ & $\\dots$ & $\\dots$ & $\\dots$ \\\\\n",
       "\\end{tabular}\n"
      ],
      "text/plain": [
       "\u001b[1m1833×3 DataFrame\u001b[0m\n",
       "\u001b[1m  Row \u001b[0m│\u001b[1m M       \u001b[0m\u001b[1m R          \u001b[0m\u001b[1m ρ              \u001b[0m\n",
       "\u001b[1m      \u001b[0m│\u001b[90m Float64 \u001b[0m\u001b[90m Float64    \u001b[0m\u001b[90m Float64        \u001b[0m\n",
       "──────┼─────────────────────────────────────\n",
       "    1 │   1.181  0.00589766       8.11879e6\n",
       "    2 │   1.19   0.00578698       8.65908e6\n",
       "    3 │   1.186  0.00584304       8.38396e6\n",
       "    4 │   1.158  0.0061837        6.90627e6\n",
       "    5 │   1.095  0.00689953       4.7015e6\n",
       "    6 │   1.177  0.00595228       7.87058e6\n",
       "    7 │   1.172  0.00600977       7.61436e6\n",
       "    8 │   1.19   0.00578698       8.65908e6\n",
       "  ⋮   │    ⋮         ⋮             ⋮\n",
       " 1827 │   0.57   0.0216085    79668.0\n",
       " 1828 │   0.688  0.0154133        2.64963e5\n",
       " 1829 │   0.556  0.0236654    59158.2\n",
       " 1830 │   0.632  0.0181774        1.4839e5\n",
       " 1831 │   0.646  0.0185957   141670.0\n",
       " 1832 │   0.584  0.0239874    59668.6\n",
       " 1833 │   0.573  0.0256662    47791.2\n",
       "\u001b[36m                           1818 rows omitted\u001b[0m"
      ]
     },
     "metadata": {},
     "output_type": "display_data"
    }
   ],
   "source": [
    "#White dwarves\n",
    "#assumes carbon core + H envelope: https://ui.adsabs.harvard.edu/abs/2019yCat..34199005M/abstract\n",
    "f = open(\"table1.dat\")\n",
    "lines = readlines(f)\n",
    "close(f)\n",
    "WDData = zeros(3, length(lines))\n",
    "Msun = 1.989e33 #g\n",
    "Rsunkm = 6.957e5\n",
    "for i = 1:length(lines)\n",
    "    try\n",
    "        s = split(strip(lines[i]), \"  \")\n",
    "        M = parse(Float64, strip(s[6])) #units of Msun\n",
    "        R = parse(Float64, strip(s[8]))\n",
    "        WDData[:, i] = [M, R / Rsunkm, ρ(M * Msun, R * 1e5)]\n",
    "    catch\n",
    "        s = split(strip(lines[i]), \"  \")\n",
    "        M = parse(Float64, strip(s[7])) #units of Msun\n",
    "        R = parse(Float64, strip(s[9]))\n",
    "        WDData[:, i] = [M, R / Rsunkm, ρ(M * Msun, R * 1e5)]\n",
    "    end\n",
    "end\n",
    "WD = DataFrame(WDData', [\"M\", \"R\", \"ρ\"])"
   ]
  },
  {
   "cell_type": "code",
   "execution_count": 36,
   "metadata": {},
   "outputs": [],
   "source": [
    "p = scatter(log.(WD.M), log.(WD.R), markershape=:star, label=\"\", markersize=1.0, xlabel=\"log(M/Msun)\", ylabel=\"log(R/Rsun)\", fontsize=16, guidefontsize=12, margins=Plots.Measures.mm * 5,\n",
    "    size=(1280, 720), fontfamily=\"times\", minorgrid=true, minorticks=true, tickdirection=:out, title=\"Data from Madej+ 2004: N = $(length(WD.R)) white dwarves\", markerstrokewidth=0.0)\n",
    "png(\"WD.png\")"
   ]
  },
  {
   "cell_type": "code",
   "execution_count": 56,
   "metadata": {},
   "outputs": [
    {
     "data": {
      "text/html": [
       "<div class=\"data-frame\"><p>68 rows × 3 columns</p><table class=\"data-frame\"><thead><tr><th></th><th>M</th><th>R</th><th>ρ</th></tr><tr><th></th><th title=\"Float64\">Float64</th><th title=\"Float64\">Float64</th><th title=\"Float64\">Float64</th></tr></thead><tbody><tr><th>1</th><td>1.559</td><td>1.4374e-5</td><td>7.40274e14</td></tr><tr><th>2</th><td>1.174</td><td>1.4374e-5</td><td>5.57461e14</td></tr><tr><th>3</th><td>1.3381</td><td>1.4374e-5</td><td>6.35382e14</td></tr><tr><th>4</th><td>1.2489</td><td>1.4374e-5</td><td>5.93026e14</td></tr><tr><th>5</th><td>1.333</td><td>1.4374e-5</td><td>6.3296e14</td></tr><tr><th>6</th><td>1.3455</td><td>1.4374e-5</td><td>6.38896e14</td></tr><tr><th>7</th><td>1.341</td><td>1.4374e-5</td><td>6.36759e14</td></tr><tr><th>8</th><td>1.23</td><td>1.4374e-5</td><td>5.84052e14</td></tr><tr><th>9</th><td>1.291</td><td>1.4374e-5</td><td>6.13017e14</td></tr><tr><th>10</th><td>1.322</td><td>1.4374e-5</td><td>6.27737e14</td></tr><tr><th>11</th><td>1.4398</td><td>1.4374e-5</td><td>6.83673e14</td></tr><tr><th>12</th><td>1.3886</td><td>1.4374e-5</td><td>6.59361e14</td></tr><tr><th>13</th><td>1.358</td><td>1.4374e-5</td><td>6.44831e14</td></tr><tr><th>14</th><td>1.354</td><td>1.4374e-5</td><td>6.42932e14</td></tr><tr><th>15</th><td>1.766</td><td>1.4374e-5</td><td>8.38565e14</td></tr><tr><th>16</th><td>0.951</td><td>1.4374e-5</td><td>4.51572e14</td></tr><tr><th>17</th><td>1.478</td><td>1.4374e-5</td><td>7.01812e14</td></tr><tr><th>18</th><td>1.002</td><td>1.4374e-5</td><td>4.75788e14</td></tr><tr><th>19</th><td>1.298</td><td>1.4374e-5</td><td>6.16341e14</td></tr><tr><th>20</th><td>1.273</td><td>1.4374e-5</td><td>6.0447e14</td></tr><tr><th>21</th><td>1.199</td><td>1.4374e-5</td><td>5.69332e14</td></tr><tr><th>22</th><td>1.363</td><td>1.4374e-5</td><td>6.47205e14</td></tr><tr><th>23</th><td>1.4378</td><td>1.4374e-5</td><td>6.82723e14</td></tr><tr><th>24</th><td>2.01</td><td>1.4374e-5</td><td>9.54426e14</td></tr><tr><th>&vellip;</th><td>&vellip;</td><td>&vellip;</td><td>&vellip;</td></tr></tbody></table></div>"
      ],
      "text/latex": [
       "\\begin{tabular}{r|ccc}\n",
       "\t& M & R & ρ\\\\\n",
       "\t\\hline\n",
       "\t& Float64 & Float64 & Float64\\\\\n",
       "\t\\hline\n",
       "\t1 & 1.559 & 1.4374e-5 & 7.40274e14 \\\\\n",
       "\t2 & 1.174 & 1.4374e-5 & 5.57461e14 \\\\\n",
       "\t3 & 1.3381 & 1.4374e-5 & 6.35382e14 \\\\\n",
       "\t4 & 1.2489 & 1.4374e-5 & 5.93026e14 \\\\\n",
       "\t5 & 1.333 & 1.4374e-5 & 6.3296e14 \\\\\n",
       "\t6 & 1.3455 & 1.4374e-5 & 6.38896e14 \\\\\n",
       "\t7 & 1.341 & 1.4374e-5 & 6.36759e14 \\\\\n",
       "\t8 & 1.23 & 1.4374e-5 & 5.84052e14 \\\\\n",
       "\t9 & 1.291 & 1.4374e-5 & 6.13017e14 \\\\\n",
       "\t10 & 1.322 & 1.4374e-5 & 6.27737e14 \\\\\n",
       "\t11 & 1.4398 & 1.4374e-5 & 6.83673e14 \\\\\n",
       "\t12 & 1.3886 & 1.4374e-5 & 6.59361e14 \\\\\n",
       "\t13 & 1.358 & 1.4374e-5 & 6.44831e14 \\\\\n",
       "\t14 & 1.354 & 1.4374e-5 & 6.42932e14 \\\\\n",
       "\t15 & 1.766 & 1.4374e-5 & 8.38565e14 \\\\\n",
       "\t16 & 0.951 & 1.4374e-5 & 4.51572e14 \\\\\n",
       "\t17 & 1.478 & 1.4374e-5 & 7.01812e14 \\\\\n",
       "\t18 & 1.002 & 1.4374e-5 & 4.75788e14 \\\\\n",
       "\t19 & 1.298 & 1.4374e-5 & 6.16341e14 \\\\\n",
       "\t20 & 1.273 & 1.4374e-5 & 6.0447e14 \\\\\n",
       "\t21 & 1.199 & 1.4374e-5 & 5.69332e14 \\\\\n",
       "\t22 & 1.363 & 1.4374e-5 & 6.47205e14 \\\\\n",
       "\t23 & 1.4378 & 1.4374e-5 & 6.82723e14 \\\\\n",
       "\t24 & 2.01 & 1.4374e-5 & 9.54426e14 \\\\\n",
       "\t$\\dots$ & $\\dots$ & $\\dots$ & $\\dots$ \\\\\n",
       "\\end{tabular}\n"
      ],
      "text/plain": [
       "\u001b[1m68×3 DataFrame\u001b[0m\n",
       "\u001b[1m Row \u001b[0m│\u001b[1m M       \u001b[0m\u001b[1m R         \u001b[0m\u001b[1m ρ          \u001b[0m\n",
       "\u001b[1m     \u001b[0m│\u001b[90m Float64 \u001b[0m\u001b[90m Float64   \u001b[0m\u001b[90m Float64    \u001b[0m\n",
       "─────┼────────────────────────────────\n",
       "   1 │  1.559   1.4374e-5  7.40274e14\n",
       "   2 │  1.174   1.4374e-5  5.57461e14\n",
       "   3 │  1.3381  1.4374e-5  6.35382e14\n",
       "   4 │  1.2489  1.4374e-5  5.93026e14\n",
       "   5 │  1.333   1.4374e-5  6.3296e14\n",
       "   6 │  1.3455  1.4374e-5  6.38896e14\n",
       "   7 │  1.341   1.4374e-5  6.36759e14\n",
       "   8 │  1.23    1.4374e-5  5.84052e14\n",
       "  ⋮  │    ⋮         ⋮          ⋮\n",
       "  62 │  1.41    1.4374e-5  6.69523e14\n",
       "  63 │  1.91    1.4374e-5  9.06942e14\n",
       "  64 │  1.74    1.4374e-5  8.26219e14\n",
       "  65 │  1.073   1.4374e-5  5.09502e14\n",
       "  66 │  1.02    1.4374e-5  4.84336e14\n",
       "  67 │  1.367   1.4374e-5  6.49105e14\n",
       "  68 │  1.27    1.4374e-5  6.03045e14\n",
       "\u001b[36m                       53 rows omitted\u001b[0m"
      ]
     },
     "metadata": {},
     "output_type": "display_data"
    }
   ],
   "source": [
    "#Neutron stars\n",
    "#masses from Ozel & Freire 2016 -- http://xtreme.as.arizona.edu/NeutronStars/data/pulsar_masses.dat\n",
    "#all radii assumed to be ~10 km as models can't yet accurately predict this -- good thing to talk about in paper portion.\n",
    "f = open(\"pulsar_masses.dat\")\n",
    "lines = readlines(f)\n",
    "close(f)\n",
    "pulsars = zeros(3, length(lines) - 8)\n",
    "for i = 9:length(lines)\n",
    "    M = parse(Float64, split(lines[i], \"\\t\")[1])\n",
    "    R = 10 / Rsunkm\n",
    "    pulsars[:, i-8] = [M, R, ρ(M * Msun, 10 * 1e5)]\n",
    "end\n",
    "pulsars = DataFrame(pulsars', [\"M\", \"R\", \"ρ\"])"
   ]
  },
  {
   "cell_type": "code",
   "execution_count": 58,
   "metadata": {},
   "outputs": [],
   "source": [
    "p = scatter(log.(pulsars.M), log.(pulsars.R), markershape=:star, label=\"\", markersize=1.0, xlabel=\"log(M/Msun)\", ylabel=\"log(R/Rsun)\", fontsize=16, guidefontsize=12, margins=Plots.Measures.mm * 5,\n",
    "    size=(1280, 720), fontfamily=\"times\", minorgrid=true, minorticks=true, tickdirection=:out, title=\"Data from Ozel+ 2016: N = $(length(pulsars.R)) pulsars, all radii assumed ~10 km\", markerstrokewidth=0.0)\n",
    "png(\"NS.png\")"
   ]
  },
  {
   "cell_type": "code",
   "execution_count": 65,
   "metadata": {},
   "outputs": [
    {
     "data": {
      "text/html": [
       "<div class=\"data-frame\"><p>428 rows × 3 columns</p><table class=\"data-frame\"><thead><tr><th></th><th>M</th><th>R</th><th>ρ</th></tr><tr><th></th><th title=\"Float64\">Float64</th><th title=\"Float64\">Float64</th><th title=\"Float64\">Float64</th></tr></thead><tbody><tr><th>1</th><td>1.75968e-16</td><td>6.89953e-6</td><td>0.755537</td></tr><tr><th>2</th><td>1.96581e-13</td><td>9.34311e-5</td><td>0.339898</td></tr><tr><th>3</th><td>1.35747e-18</td><td>3.44976e-6</td><td>0.0466274</td></tr><tr><th>4</th><td>1.60885e-16</td><td>7.47449e-6</td><td>0.543315</td></tr><tr><th>5</th><td>1.5636e-12</td><td>0.000107805</td><td>1.7599</td></tr><tr><th>6</th><td>5.42986e-12</td><td>0.000175363</td><td>1.41989</td></tr><tr><th>7</th><td>5.07793e-13</td><td>0.000107805</td><td>0.571543</td></tr><tr><th>8</th><td>1.13122e-13</td><td>5.39025e-5</td><td>1.01859</td></tr><tr><th>9</th><td>4.86677e-12</td><td>0.000100618</td><td>6.7374</td></tr><tr><th>10</th><td>2.66466e-18</td><td>2.58732e-6</td><td>0.216955</td></tr><tr><th>11</th><td>4.62544e-17</td><td>3.37789e-6</td><td>1.69237</td></tr><tr><th>12</th><td>9.55254e-20</td><td>5.0309e-7</td><td>1.05794</td></tr><tr><th>13</th><td>1.65913e-19</td><td>7.90571e-7</td><td>0.473519</td></tr><tr><th>14</th><td>5.01257e-18</td><td>2.37171e-6</td><td>0.529852</td></tr><tr><th>15</th><td>1.40774e-18</td><td>1.22179e-6</td><td>1.08846</td></tr><tr><th>16</th><td>4.0724e-18</td><td>1.58114e-6</td><td>1.45284</td></tr><tr><th>17</th><td>2.11664e-17</td><td>4.02472e-6</td><td>0.457846</td></tr><tr><th>18</th><td>7.69231e-19</td><td>1.29366e-6</td><td>0.501043</td></tr><tr><th>19</th><td>4.71594e-10</td><td>0.000675147</td><td>2.16099</td></tr><tr><th>20</th><td>1.03067e-10</td><td>0.000374299</td><td>2.77168</td></tr><tr><th>21</th><td>1.32227e-11</td><td>0.000180825</td><td>3.15374</td></tr><tr><th>22</th><td>1.30216e-10</td><td>0.000377605</td><td>3.4106</td></tr><tr><th>23</th><td>1.4731e-12</td><td>8.30818e-5</td><td>3.62239</td></tr><tr><th>24</th><td>6.43539e-12</td><td>0.000136194</td><td>3.59239</td></tr><tr><th>&vellip;</th><td>&vellip;</td><td>&vellip;</td><td>&vellip;</td></tr></tbody></table></div>"
      ],
      "text/latex": [
       "\\begin{tabular}{r|ccc}\n",
       "\t& M & R & ρ\\\\\n",
       "\t\\hline\n",
       "\t& Float64 & Float64 & Float64\\\\\n",
       "\t\\hline\n",
       "\t1 & 1.75968e-16 & 6.89953e-6 & 0.755537 \\\\\n",
       "\t2 & 1.96581e-13 & 9.34311e-5 & 0.339898 \\\\\n",
       "\t3 & 1.35747e-18 & 3.44976e-6 & 0.0466274 \\\\\n",
       "\t4 & 1.60885e-16 & 7.47449e-6 & 0.543315 \\\\\n",
       "\t5 & 1.5636e-12 & 0.000107805 & 1.7599 \\\\\n",
       "\t6 & 5.42986e-12 & 0.000175363 & 1.41989 \\\\\n",
       "\t7 & 5.07793e-13 & 0.000107805 & 0.571543 \\\\\n",
       "\t8 & 1.13122e-13 & 5.39025e-5 & 1.01859 \\\\\n",
       "\t9 & 4.86677e-12 & 0.000100618 & 6.7374 \\\\\n",
       "\t10 & 2.66466e-18 & 2.58732e-6 & 0.216955 \\\\\n",
       "\t11 & 4.62544e-17 & 3.37789e-6 & 1.69237 \\\\\n",
       "\t12 & 9.55254e-20 & 5.0309e-7 & 1.05794 \\\\\n",
       "\t13 & 1.65913e-19 & 7.90571e-7 & 0.473519 \\\\\n",
       "\t14 & 5.01257e-18 & 2.37171e-6 & 0.529852 \\\\\n",
       "\t15 & 1.40774e-18 & 1.22179e-6 & 1.08846 \\\\\n",
       "\t16 & 4.0724e-18 & 1.58114e-6 & 1.45284 \\\\\n",
       "\t17 & 2.11664e-17 & 4.02472e-6 & 0.457846 \\\\\n",
       "\t18 & 7.69231e-19 & 1.29366e-6 & 0.501043 \\\\\n",
       "\t19 & 4.71594e-10 & 0.000675147 & 2.16099 \\\\\n",
       "\t20 & 1.03067e-10 & 0.000374299 & 2.77168 \\\\\n",
       "\t21 & 1.32227e-11 & 0.000180825 & 3.15374 \\\\\n",
       "\t22 & 1.30216e-10 & 0.000377605 & 3.4106 \\\\\n",
       "\t23 & 1.4731e-12 & 8.30818e-5 & 3.62239 \\\\\n",
       "\t24 & 6.43539e-12 & 0.000136194 & 3.59239 \\\\\n",
       "\t$\\dots$ & $\\dots$ & $\\dots$ & $\\dots$ \\\\\n",
       "\\end{tabular}\n"
      ],
      "text/plain": [
       "\u001b[1m428×3 DataFrame\u001b[0m\n",
       "\u001b[1m Row \u001b[0m│\u001b[1m M           \u001b[0m\u001b[1m R           \u001b[0m\u001b[1m ρ         \u001b[0m\n",
       "\u001b[1m     \u001b[0m│\u001b[90m Float64     \u001b[0m\u001b[90m Float64     \u001b[0m\u001b[90m Float64   \u001b[0m\n",
       "─────┼─────────────────────────────────────\n",
       "   1 │ 1.75968e-16  6.89953e-6   0.755537\n",
       "   2 │ 1.96581e-13  9.34311e-5   0.339898\n",
       "   3 │ 1.35747e-18  3.44976e-6   0.0466274\n",
       "   4 │ 1.60885e-16  7.47449e-6   0.543315\n",
       "   5 │ 1.5636e-12   0.000107805  1.7599\n",
       "   6 │ 5.42986e-12  0.000175363  1.41989\n",
       "   7 │ 5.07793e-13  0.000107805  0.571543\n",
       "   8 │ 1.13122e-13  5.39025e-5   1.01859\n",
       "  ⋮  │      ⋮            ⋮           ⋮\n",
       " 422 │ 6.38512e-19  7.90571e-7   1.82233\n",
       " 423 │ 2.14681e-18  1.29366e-6   1.39834\n",
       " 424 │ 2.31272e-19  1.14992e-6   0.214486\n",
       " 425 │ 9.80392e-18  2.51545e-6   0.868624\n",
       " 426 │ 1.79487e-20  2.1561e-7    2.52526\n",
       " 427 │ 4.70085e-21  2.1561e-7    0.661377\n",
       " 428 │ 2.01106e-12  0.000161708  0.670678\n",
       "\u001b[36m                           413 rows omitted\u001b[0m"
      ]
     },
     "metadata": {},
     "output_type": "display_data"
    }
   ],
   "source": [
    "#Solar system\n",
    "#asteroids found here: https://astro.kretlow.de/simda/catalog/\n",
    "asteroids = DataFrame(CSV.File(\"SiMDA_220419.csv\", header=1))\n",
    "astData = zeros(3, length(asteroids.DESIGNATION))\n",
    "for i = 1:length(asteroids.DESIGNATION)\n",
    "    M = asteroids.MASS[i] #kg\n",
    "    R = asteroids.DIAM[i] / 2 #km\n",
    "    astData[:, i] = [M * 1e3 / Msun, R / Rsunkm, ρ(M * 1e3, R * 1e5)] #solar units, g/cm^3\n",
    "end\n",
    "asteroids = DataFrame(astData', [\"M\", \"R\", \"ρ\"])"
   ]
  },
  {
   "cell_type": "code",
   "execution_count": 66,
   "metadata": {},
   "outputs": [],
   "source": [
    "p = scatter(log.(asteroids.M), log.(asteroids.R), markershape=:square, label=\"\", markersize=1.0, xlabel=\"log(M/Msun)\", ylabel=\"log(R/Rsun)\", fontsize=16, guidefontsize=12, margins=Plots.Measures.mm * 5,\n",
    "    size=(1280, 720), fontfamily=\"times\", minorgrid=true, minorticks=true, tickdirection=:out, title=\"Data from SiMDA: N = $(length(asteroids.R)) asteroids\", markerstrokewidth=0.0)\n",
    "png(\"asteroids.png\")"
   ]
  },
  {
   "cell_type": "code",
   "execution_count": 309,
   "metadata": {},
   "outputs": [
    {
     "data": {
      "text/html": [
       "<div class=\"data-frame\"><p>18 rows × 3 columns</p><table class=\"data-frame\"><thead><tr><th></th><th>M</th><th>R</th><th>ρ</th></tr><tr><th></th><th title=\"Float64\">Float64</th><th title=\"Float64\">Float64</th><th title=\"Float64\">Float64</th></tr></thead><tbody><tr><th>1</th><td>4.4907e-8</td><td>0.00261823</td><td>3.53</td></tr><tr><th>2</th><td>2.41327e-8</td><td>0.0022435</td><td>3.01</td></tr><tr><th>3</th><td>7.45048e-8</td><td>0.00378209</td><td>1.94</td></tr><tr><th>4</th><td>5.40925e-8</td><td>0.00346457</td><td>1.83</td></tr><tr><th>5</th><td>2.01106e-11</td><td>0.000284605</td><td>1.2302</td></tr><tr><th>6</th><td>5.53042e-11</td><td>0.000362225</td><td>1.64098</td></tr><tr><th>7</th><td>3.11714e-10</td><td>0.00076326</td><td>0.988598</td></tr><tr><th>8</th><td>5.53042e-10</td><td>0.000807101</td><td>1.48339</td></tr><tr><th>9</th><td>1.15636e-9</td><td>0.00109746</td><td>1.23371</td></tr><tr><th>10</th><td>6.28457e-8</td><td>0.00370059</td><td>1.74881</td></tr><tr><th>11</th><td>9.04977e-10</td><td>0.00105649</td><td>1.08224</td></tr><tr><th>12</th><td>1.7094e-9</td><td>0.00113325</td><td>1.65634</td></tr><tr><th>13</th><td>1.54651e-9</td><td>0.00109444</td><td>1.66364</td></tr><tr><th>14</th><td>6.41026e-10</td><td>0.000840448</td><td>1.52273</td></tr><tr><th>15</th><td>6.28959e-10</td><td>0.000832112</td><td>1.53942</td></tr><tr><th>16</th><td>3.2177e-11</td><td>0.000338939</td><td>1.16536</td></tr><tr><th>17</th><td>1.07541e-8</td><td>0.00194423</td><td>2.06355</td></tr><tr><th>18</th><td>3.69331e-8</td><td>0.00249835</td><td>3.344</td></tr></tbody></table></div>"
      ],
      "text/latex": [
       "\\begin{tabular}{r|ccc}\n",
       "\t& M & R & ρ\\\\\n",
       "\t\\hline\n",
       "\t& Float64 & Float64 & Float64\\\\\n",
       "\t\\hline\n",
       "\t1 & 4.4907e-8 & 0.00261823 & 3.53 \\\\\n",
       "\t2 & 2.41327e-8 & 0.0022435 & 3.01 \\\\\n",
       "\t3 & 7.45048e-8 & 0.00378209 & 1.94 \\\\\n",
       "\t4 & 5.40925e-8 & 0.00346457 & 1.83 \\\\\n",
       "\t5 & 2.01106e-11 & 0.000284605 & 1.2302 \\\\\n",
       "\t6 & 5.53042e-11 & 0.000362225 & 1.64098 \\\\\n",
       "\t7 & 3.11714e-10 & 0.00076326 & 0.988598 \\\\\n",
       "\t8 & 5.53042e-10 & 0.000807101 & 1.48339 \\\\\n",
       "\t9 & 1.15636e-9 & 0.00109746 & 1.23371 \\\\\n",
       "\t10 & 6.28457e-8 & 0.00370059 & 1.74881 \\\\\n",
       "\t11 & 9.04977e-10 & 0.00105649 & 1.08224 \\\\\n",
       "\t12 & 1.7094e-9 & 0.00113325 & 1.65634 \\\\\n",
       "\t13 & 1.54651e-9 & 0.00109444 & 1.66364 \\\\\n",
       "\t14 & 6.41026e-10 & 0.000840448 & 1.52273 \\\\\n",
       "\t15 & 6.28959e-10 & 0.000832112 & 1.53942 \\\\\n",
       "\t16 & 3.2177e-11 & 0.000338939 & 1.16536 \\\\\n",
       "\t17 & 1.07541e-8 & 0.00194423 & 2.06355 \\\\\n",
       "\t18 & 3.69331e-8 & 0.00249835 & 3.344 \\\\\n",
       "\\end{tabular}\n"
      ],
      "text/plain": [
       "\u001b[1m18×3 DataFrame\u001b[0m\n",
       "\u001b[1m Row \u001b[0m│\u001b[1m M           \u001b[0m\u001b[1m R           \u001b[0m\u001b[1m ρ        \u001b[0m\n",
       "\u001b[1m     \u001b[0m│\u001b[90m Float64     \u001b[0m\u001b[90m Float64     \u001b[0m\u001b[90m Float64  \u001b[0m\n",
       "─────┼────────────────────────────────────\n",
       "   1 │ 4.4907e-8    0.00261823   3.53\n",
       "   2 │ 2.41327e-8   0.0022435    3.01\n",
       "   3 │ 7.45048e-8   0.00378209   1.94\n",
       "   4 │ 5.40925e-8   0.00346457   1.83\n",
       "   5 │ 2.01106e-11  0.000284605  1.2302\n",
       "   6 │ 5.53042e-11  0.000362225  1.64098\n",
       "   7 │ 3.11714e-10  0.00076326   0.988598\n",
       "   8 │ 5.53042e-10  0.000807101  1.48339\n",
       "  ⋮  │      ⋮            ⋮          ⋮\n",
       "  12 │ 1.7094e-9    0.00113325   1.65634\n",
       "  13 │ 1.54651e-9   0.00109444   1.66364\n",
       "  14 │ 6.41026e-10  0.000840448  1.52273\n",
       "  15 │ 6.28959e-10  0.000832112  1.53942\n",
       "  16 │ 3.2177e-11   0.000338939  1.16536\n",
       "  17 │ 1.07541e-8   0.00194423   2.06355\n",
       "  18 │ 3.69331e-8   0.00249835   3.344\n",
       "\u001b[36m                            3 rows omitted\u001b[0m"
      ]
     },
     "metadata": {},
     "output_type": "display_data"
    }
   ],
   "source": [
    "#moons -- have to hard code this? why no database available? have to query JPL one by one. stupid\n",
    "\n",
    "#jupiter -- used galilean from here https://nssdc.gsfc.nasa.gov/planetary/factsheet/joviansatfact.html \n",
    "jMasses = [893.2,\n",
    "    480.0,\n",
    "    1481.9,\n",
    "    1075.9] .* 1e23 / Msun #Msun\n",
    "jRadii = [1821.5,\n",
    "    1560.8,\n",
    "    2631.2,\n",
    "    2410.3] ./ Rsunkm #Rsun\n",
    "jρ = [3530.0, 3010.0, 1940.0, 1830.0] .* 1e3 / 1e6 #kg/m^3 -> g/cm^3\n",
    "\n",
    "#Saturn, used \"major satellites\" on wikipedia: https://en.wikipedia.org/wiki/Moons_of_Saturn\n",
    "sMasses = [4e19, 1.1e20, 6.2e20, 1.1e21, 2.3e21, 1.25e23, 1.8e21] .* 1e3 / Msun #Msun, major satellites\n",
    "sRadii = [396, 504, 1062, 1123, 1527, 5149, 1470] ./ (2*Rsunkm) #Rsun\n",
    "sρ = [ρ(m * Msun, r * Rsunkm * 1e5) for (m, r) in zip(sMasses, sRadii)] #g/cm^3\n",
    "\n",
    "#Uranus, used purple major moons on wiki: https://en.wikipedia.org/wiki/Moons_of_Uranus\n",
    "uMasses = [340000, 307600, 127500, 125100, 6400] .* 1e19 / Msun #Msun\n",
    "uRadii = [1576.8, 1522.8, 1169.4, 1157.8, 471.6] ./ (2 * Rsunkm) #Rsun\n",
    "uρ = [ρ(m * Msun, r * Rsunkm * 1e5) for (m, r) in zip(uMasses, uRadii)] #g/cm^3\n",
    "\n",
    "#Neptune -- using Triton only as it's the only spherical one\n",
    "nMasses = [2139000] .* 1e19 / Msun #Msun\n",
    "nRadii = [2705.2] ./ (2 * Rsunkm) #Rsun\n",
    "nρ = [ρ(m * Msun, r * Rsunkm * 1e5) for (m, r) in zip(nMasses, nRadii)] #g/cm^3\n",
    "\n",
    "#Earth's moon, from https://nssdc.gsfc.nasa.gov/planetary/factsheet/moonfact.html\n",
    "EMasses = [0.07346] .* 1e27 / Msun #Msun\n",
    "ERadii = [1738.1] ./ Rsunkm #Rsun\n",
    "Eρ = [3344] .* 1e3 / 1e6 #g/cm^3\n",
    "\n",
    "moonMasses = vcat(jMasses, sMasses, uMasses, nMasses, EMasses)\n",
    "moonRadii = vcat(jRadii, sRadii, uRadii, nRadii, ERadii)\n",
    "moonρ = vcat(jρ, sρ, uρ, nρ, Eρ)\n",
    "moonData = hcat(moonMasses, moonRadii, moonρ)\n",
    "moons = DataFrame(moonData, [\"M\", \"R\", \"ρ\"])"
   ]
  },
  {
   "cell_type": "code",
   "execution_count": 73,
   "metadata": {},
   "outputs": [],
   "source": [
    "p = scatter(log.(moons.M), log.(moons.R), markershape=:square, label=\"\", markersize=1.0, xlabel=\"log(M/Msun)\", ylabel=\"log(R/Rsun)\", fontsize=16, guidefontsize=12, margins=Plots.Measures.mm * 5,\n",
    "    size=(1280, 720), fontfamily=\"times\", minorgrid=true, minorticks=true, tickdirection=:out, title=\"N = $(length(moons.R)) moons\", markerstrokewidth=0.0)\n",
    "png(\"moons.png\")"
   ]
  },
  {
   "cell_type": "code",
   "execution_count": 76,
   "metadata": {},
   "outputs": [
    {
     "data": {
      "text/html": [
       "<div class=\"data-frame\"><p>9 rows × 3 columns</p><table class=\"data-frame\"><thead><tr><th></th><th>M</th><th>R</th><th>ρ</th></tr><tr><th></th><th title=\"Float64\">Float64</th><th title=\"Float64\">Float64</th><th title=\"Float64\">Float64</th></tr></thead><tbody><tr><th>1</th><td>1.65913e-7</td><td>0.00350654</td><td>5.429</td></tr><tr><th>2</th><td>2.44847e-6</td><td>0.00869915</td><td>5.243</td></tr><tr><th>3</th><td>3.00151e-6</td><td>0.00916774</td><td>5.514</td></tr><tr><th>4</th><td>3.22775e-7</td><td>0.00488141</td><td>3.934</td></tr><tr><th>5</th><td>0.000954248</td><td>0.102763</td><td>1.326</td></tr><tr><th>6</th><td>0.000285571</td><td>0.0866293</td><td>0.687</td></tr><tr><th>7</th><td>4.364e-5</td><td>0.0367385</td><td>1.27</td></tr><tr><th>8</th><td>5.12821e-5</td><td>0.0355958</td><td>1.638</td></tr><tr><th>9</th><td>6.53595e-9</td><td>0.00170763</td><td>1.85</td></tr></tbody></table></div>"
      ],
      "text/latex": [
       "\\begin{tabular}{r|ccc}\n",
       "\t& M & R & ρ\\\\\n",
       "\t\\hline\n",
       "\t& Float64 & Float64 & Float64\\\\\n",
       "\t\\hline\n",
       "\t1 & 1.65913e-7 & 0.00350654 & 5.429 \\\\\n",
       "\t2 & 2.44847e-6 & 0.00869915 & 5.243 \\\\\n",
       "\t3 & 3.00151e-6 & 0.00916774 & 5.514 \\\\\n",
       "\t4 & 3.22775e-7 & 0.00488141 & 3.934 \\\\\n",
       "\t5 & 0.000954248 & 0.102763 & 1.326 \\\\\n",
       "\t6 & 0.000285571 & 0.0866293 & 0.687 \\\\\n",
       "\t7 & 4.364e-5 & 0.0367385 & 1.27 \\\\\n",
       "\t8 & 5.12821e-5 & 0.0355958 & 1.638 \\\\\n",
       "\t9 & 6.53595e-9 & 0.00170763 & 1.85 \\\\\n",
       "\\end{tabular}\n"
      ],
      "text/plain": [
       "\u001b[1m9×3 DataFrame\u001b[0m\n",
       "\u001b[1m Row \u001b[0m│\u001b[1m M           \u001b[0m\u001b[1m R          \u001b[0m\u001b[1m ρ       \u001b[0m\n",
       "\u001b[1m     \u001b[0m│\u001b[90m Float64     \u001b[0m\u001b[90m Float64    \u001b[0m\u001b[90m Float64 \u001b[0m\n",
       "─────┼──────────────────────────────────\n",
       "   1 │ 1.65913e-7   0.00350654    5.429\n",
       "   2 │ 2.44847e-6   0.00869915    5.243\n",
       "   3 │ 3.00151e-6   0.00916774    5.514\n",
       "   4 │ 3.22775e-7   0.00488141    3.934\n",
       "   5 │ 0.000954248  0.102763      1.326\n",
       "   6 │ 0.000285571  0.0866293     0.687\n",
       "   7 │ 4.364e-5     0.0367385     1.27\n",
       "   8 │ 5.12821e-5   0.0355958     1.638\n",
       "   9 │ 6.53595e-9   0.00170763    1.85"
      ]
     },
     "metadata": {},
     "output_type": "display_data"
    }
   ],
   "source": [
    "#finally...planets, from https://nssdc.gsfc.nasa.gov/planetary/factsheet/\n",
    "\n",
    "masses = [0.330, 4.87, 5.97, 0.642, 1898, 568, 86.8, 102, 0.013] .* 1e27 / Msun #Msun, includes Pluto\n",
    "radii = [4879, 12104, 12756, 6792, 142984, 120536, 51118, 49528, 2376] ./ (2 * Rsunkm) #Rsun\n",
    "ρPlanets = [5429, 5243, 5514, 3934, 1326, 687, 1270, 1638, 1850] .* 1e3 / 1e6 #g/cm^3\n",
    "pData = hcat(masses, radii, ρPlanets)\n",
    "planets = DataFrame(pData, [\"M\", \"R\", \"ρ\"])"
   ]
  },
  {
   "cell_type": "code",
   "execution_count": 77,
   "metadata": {},
   "outputs": [],
   "source": [
    "p = scatter(log.(planets.M), log.(planets.R), markershape=:star6, label=\"\", markersize=1.0, xlabel=\"log(M/Msun)\", ylabel=\"log(R/Rsun)\", fontsize=16, guidefontsize=12, margins=Plots.Measures.mm * 5,\n",
    "    size=(1280, 720), fontfamily=\"times\", minorgrid=true, minorticks=true, tickdirection=:out, title=\"N = $(length(planets.R)) planets\", markerstrokewidth=0.0)\n",
    "png(\"planets.png\")"
   ]
  },
  {
   "cell_type": "code",
   "execution_count": 18,
   "metadata": {},
   "outputs": [],
   "source": [
    "#exotic stars -- i.e. \"pion\" stars"
   ]
  },
  {
   "cell_type": "code",
   "execution_count": 317,
   "metadata": {},
   "outputs": [
    {
     "data": {
      "text/plain": [
       "100-element Vector{Float64}:\n",
       "  45.4582283263942\n",
       "  44.86573466936522\n",
       "  44.273241012336236\n",
       "  43.68074735530726\n",
       "  43.08825369827827\n",
       "  42.4957600412493\n",
       "  41.903266384220316\n",
       "  41.31077272719134\n",
       "  40.71827907016236\n",
       "  40.12578541313338\n",
       "   ⋮\n",
       "  -8.458694463242974\n",
       "  -9.051188120271956\n",
       "  -9.64368177730093\n",
       " -10.236175434329912\n",
       " -10.828669091358893\n",
       " -11.421162748387875\n",
       " -12.01365640541685\n",
       " -12.606150062445831\n",
       " -13.198643719474813"
      ]
     },
     "metadata": {},
     "output_type": "display_data"
    }
   ],
   "source": [
    "#theory curves (i.e. BH, degeneracy, etc.)\n",
    "RBH(M) = 2 * 6.67e-8 * M / (3e10^2) #M in g, R in cm\n",
    "logMBH = range(-4, stop=log(1e11), length=100) #solar masses from stellar -> supermassive limits\n",
    "logRBH = log.((RBH.(exp.(logMBH) .* Msun)) ./ (Rsunkm * 1e5))\n",
    "logρBH = log.([ρ(exp(m) * Msun, exp(r) * Rsunkm * 1e5) for (m, r) in zip(logMBH, logRBH)])"
   ]
  },
  {
   "cell_type": "code",
   "execution_count": 328,
   "metadata": {},
   "outputs": [],
   "source": [
    "#mass radius all together\n",
    "skip = 1\n",
    "label = skip != 1 ? \"Gaia stars: N = $(round(Int,length(gaia.M)/skip)) plotted, N = $(length(gaia.M)) total\" : \"Gaia stars: N = $(length(gaia.M))\"\n",
    "ms = skip != 1 ? 2. : 1.\n",
    "p = scatter(log.(gaia.M[1:skip:end]), log.(gaia.R[1:skip:end]), markershape=:star, label=label, markersize=ms, xlabel=\"log(M [solar masses])\", ylabel=\"log(R [solar radii])\", fontsize=16, guidefontsize=14, margins=Plots.Measures.mm * 5,\n",
    "    size=(1920, 1080), fontfamily=\"times\", minorgrid=true, minorticks=true, tickdirection=:out, markerstrokewidth=0.0, legend=:topleft, legendfontsize=12,left_margin = Plots.Measures.mm*10,\n",
    "    title=\"Mass-radius scaling of astrophysical objects\")\n",
    "\n",
    "Mratio = 9.5479e-4;\n",
    "Rratio = 0.10045; #jupiter to solar\n",
    "p = scatter!(log.(exo.Mjup .* Mratio), log.(exo.Rjup .* Rratio), markershape=:circle, label=\"Exoplanets: N = $(length(exo.Rjup))\", markersize=2.0, markerstrokewidth=0.0)\n",
    "p = scatter!(log.(WD.M), log.(WD.R), markershape=:diamond, markersize=2.0, label=\"White dwarves from Madej+ 2004: N = $(length(WD.R))\", markerstrokewidth=0.0)\n",
    "p = scatter!(log.(pulsars.M), log.(pulsars.R), markershape=:cross, label=\"Neutron stars masses from Ozel+ 2016: N = $(length(pulsars.R)), all radii assumed ~10 km\", markerstrokewidth=0.0)\n",
    "p = scatter!(log.(asteroids.M), log.(asteroids.R), markershape=:square, label=\"Asteroids from SiMDA: N = $(length(asteroids.R))\", markersize=2.0, markerstrokewidth=0.0)\n",
    "p = scatter!(log.(moons.M), log.(moons.R), markershape=:octagon, label=\"N = $(length(moons.M)) moons\", markerstrokewidth=0.0,color=:aqua)\n",
    "p = scatter!(log.(planets.M), log.(planets.R), markershape=:circle, label=\"N = 9 planets\", markerstrokewidth=0.0, markersize=6.0,color=:crimson)\n",
    "p = plot!(logMBH, logRBH, label=\"Black holes (Schwarzschild)\", color=\"black\", fillrange=(-15 .* ones(length(logMBH))), fillalpha=0.5, ylims=(-15, 10), xlims=(-35, 20), lw=2)\n",
    "logSolidM = range(-35, stop=20, length=1000)\n",
    "logSolidR = -0.15 .+ log.(exp.(logSolidM) .^ (1 / 3))\n",
    "p = plot!(logSolidM, logSolidR, label=\"R ∝ M^(1/3)\", color=:black, linestyle=:dash, lw=2)\n",
    "logMSR = zeros(length(logSolidM))\n",
    "for i = 1:length(logSolidM)\n",
    "    α = exp(logSolidM[i]) > 1.4 ? 0.6 : 0.9\n",
    "    logMSR[i] = log(exp(logSolidM[i])^α)\n",
    "end\n",
    "p = plot!(logSolidM, logMSR, label=\"R ∝ M^α (MS scaling)\", color=:black, linestyle=:dashdot, lw=2)\n",
    "logWDM = range(-35,stop=log(1.455),length=1000)\n",
    "logWDR = zeros(length(logWDM))\n",
    "for i = 1:length(logWDM)\n",
    "    logWDR[i] = log(0.0126*(exp(logWDM[i]))^(-1/3)*sqrt((1-(exp(logWDM[i])/1.456)^(4/3)))) #solar radii, from https://www.astro.princeton.edu/~burrows/classes/403/white.dwarfs.pdf\n",
    "end\n",
    "p = plot!(logWDM, logWDR, label=\"R ∝ M^(-1/3) (WD scaling)\", color=:black, linestyle=:dot, lw=2)\n",
    "p = scatter!([0],[0],color=:gold,markershape=:star,markersize=8.,label=\"\",markerstrokewidth=0.)\n",
    "p = scatter!([log(1.456)],[log(0.0126*(1.456)^(-1/3)*sqrt((1-(1.4/1.456)^(4/3))))],marker=:star5,color=:orange,label=\"\",markerstrokewidth=0.,markersize=6.)\n",
    "p = plot!(log(1.456).*ones(10),range(-15,stop=-8,length=10),ls=:dot,lw=2,label=\"\",color=:black)\n",
    "reprBH = [10,4.31e6,140e6,6.5e9]; reprRBH = RBH.(reprBH.*Msun)./(Rsunkm*1e5)#stellar mass, sag a*, andromeda, m87\n",
    "p = scatter!(log.(reprBH),log.(reprRBH),marker=:circle,fill=false,label=\"\",color=:black)\n",
    "p = annotate!([(log(planets.M[3]),log(planets.R[3])+1.2,Plots.text(\"Earth\",\"Times\",12,\"red\",rotation=90)),\n",
    "                (log(planets.M[5]),log(planets.R[5])+1.4,Plots.text(\"Jupiter\",\"Times\",12,\"red\",rotation=90)),\n",
    "                (log(planets.M[9]),log(planets.R[9])+1.2,Plots.text(\"Pluto\",\"Times\",12,\"red\",rotation=90)),\n",
    "                (log(moons.M[end])-0.1,log(moons.R[end])+1.2,Plots.text(\"Moon\",\"Times\",12,\"aqua\",rotation=90)),\n",
    "                (log(moons.M[10])-0.1,log(moons.R[10])+1.5,Plots.text(\"Titan\",\"Times\",12,\"aqua\",rotation=90)),\n",
    "                (log(moons.M[3])+0.15,log(moons.R[3])+1.4,Plots.text(\"Ganymede\",\"Times\",12,\"aqua\",rotation=90)),\n",
    "                (log(reprBH[1]),log(reprRBH[1])+2.,Plots.text(\"Stellar mass\",\"Times\",12,\"white\",rotation=90)),\n",
    "                (log(reprBH[2]),log(reprRBH[2])+1.2,Plots.text(\"Sag A*\",\"Times\",12,\"white\",rotation=90)),\n",
    "                (log(reprBH[3]),log(reprRBH[3])+2.,Plots.text(\"Andromeda\",\"Times\",12,\"white\",:bold,rotation=90)),\n",
    "                (log(reprBH[4]),log(reprRBH[4])+1.2,Plots.text(\"M87\",\"Times\",12,\"whit\",:bold,rotation=90)),\n",
    "                (0,1,Plots.text(\"Sun\",\"Times\",12,\"Gold\",:bold,rotation=90)),\n",
    "                (-1,-1.5,Plots.text(\"α = 0.9\",\"Times\",12,\"white\",rotation=45)),\n",
    "                (2,0.9,Plots.text(\"α = 0.6\",\"Times\",12,\"white\",rotation=30)),\n",
    "                (log(1.4),-3.,Plots.text(\"n = 1.5 -> n = 3\",\"Times\",12,\"white\",rotation=0)),\n",
    "                (log(1.456)+3.,-6.,Plots.text(\"~ Chandresekar limit\",\"Times\",12,\"orange\",\"left\"))])\n",
    "p = plot!(background_color=:gray50,background_color_legend=:gray90,background_color_outside=:gray90,gridalpha=0.4,minorgridalpha=0.2)\n",
    "png(\"MassRadiusAll.png\")"
   ]
  },
  {
   "cell_type": "code",
   "execution_count": 326,
   "metadata": {},
   "outputs": [],
   "source": [
    "#all together\n",
    "using Plots\n",
    "skip = 1\n",
    "label = skip != 1 ? \"Gaia stars: N = $(round(Int,length(gaia.M)/skip)) plotted, N = $(length(gaia.M)) total\" : \"Gaia stars: N = $(length(gaia.M))\"\n",
    "ms = skip != 1 ? 2. : 1.\n",
    "p = scatter(log.(gaia.M[1:skip:end]), gaia.logρ[1:skip:end], markershape=:star, label=label, markersize=ms, xlabel=\"log(M [solar masses])\", ylabel=\"log10(ρ [g/cm^3])\", fontsize=16, guidefontsize=14, margins=Plots.Measures.mm * 5,\n",
    "    size=(1920, 1080), fontfamily=\"times\", minorgrid=true, minorticks=true, tickdirection=:out, markerstrokewidth=0.0, legend=:topleft, legendfontsize=12,left_margin = Plots.Measures.mm*10,\n",
    "    title=\"Mass-density scaling of astrophysical objects\")\n",
    "\n",
    "Mratio = 9.5479e-4;\n",
    "Rratio = 0.10045; #jupiter to solar\n",
    "p = scatter!(log.(exo.Mjup .* Mratio), log10.(exo.ρ), markershape=:circle, label=\"Exoplanets: N = $(length(exo.Rjup))\", markersize=2.0, markerstrokewidth=0.0)\n",
    "p = scatter!(log.(WD.M), log10.(WD.ρ), markershape=:diamond, markersize=2.0, label=\"White dwarves from Madej+ 2004: N = $(length(WD.R))\", markerstrokewidth=0.0)\n",
    "p = scatter!(log.(pulsars.M), log10.(pulsars.ρ), markershape=:cross, label=\"Neutron stars masses from Ozel+ 2016: N = $(length(pulsars.R)), all radii assumed ~10 km\", markerstrokewidth=0.0)\n",
    "p = scatter!(log.(asteroids.M), log10.(asteroids.ρ), markershape=:square, label=\"Asteroids from SiMDA: N = $(length(asteroids.R))\", markersize=2.0, markerstrokewidth=0.0)\n",
    "p = scatter!(log.(moons.M), log10.(moons.ρ), markershape=:octagon, label=\"N = $(length(moons.M)) moons\", markerstrokewidth=0.0,color=:aqua)\n",
    "p = scatter!(log.(planets.M), log10.(planets.ρ), markershape=:circle, label=\"N = 9 planets\", markerstrokewidth=0.0, markersize=6.0,color=:crimson)\n",
    "p = plot!(logMBH, logρBH./log(10), label=\"Black holes (Schwarzschild)\", color=\"black\", fillrange=(20 .*ones(length(logMBH))), fillalpha=0.5, ylims=(-8, 16), xlims=(-35, 20), lw=2)\n",
    "logSolidM = range(-35, stop=20, length=1000)\n",
    "logρWater = zeros(length(logSolidM)) #1 g/cm^3\n",
    "logρEarth = log10(5.513).*ones(length(logSolidM)) #Earth\n",
    "logρSun = log10(1.408).*ones(length(logSolidM)) #Sun mean\n",
    "p = plot!(logSolidM, logρWater, label=\"Lines of constant density for water, the Earth, and the Sun\", color=:black, linestyle=:dash, lw=2)\n",
    "p = plot!(logSolidM, logρEarth, label=\"\", color=:black, linestyle=:dash, lw=2)\n",
    "p = plot!(logSolidM, logρSun, label=\"\", color=:black, linestyle=:dash, lw=2)\n",
    "logMSρ = zeros(length(logSolidM))\n",
    "for i = 1:length(logSolidM)\n",
    "    logMSρ[i] = log10(ρ(exp(logSolidM[i])*Msun,exp(logMSR[i])*Rsunkm*1e5))\n",
    "end\n",
    "p = plot!(logSolidM, logMSρ, label=\"MS scaling (R ∝ M^α)\", color=:black, linestyle=:dashdot, lw=2)\n",
    "logWDM = range(-35,stop=log(1.455),length=1000)\n",
    "logWDρ = zeros(length(logWDM))\n",
    "for i = 1:length(logWDM)\n",
    "    logWDρ[i] = log10(exp(logWDM[i])*Msun/(4/3*π*(exp(logWDR[i])*Rsunkm*1e5)^3))\n",
    "end\n",
    "p = plot!(logWDM, logWDρ, label=\"WD scaling (R ∝ M^(-1/3))\", color=:black, linestyle=:dot, lw=2)\n",
    "p = scatter!([0],[log10(Msun/(4/3*π*(Rsunkm*1e5)^3))],color=:gold,markershape=:star,markersize=8.,label=\"\",markerstrokewidth=0.)\n",
    "RChandra = 0.0126*Rsunkm*1e5*(1.456)^(-1/3)*sqrt((1-(1.4/1.456)^(4/3)))\n",
    "ρChandra = 1.456*Msun/(4/3*π*RChandra^3)\n",
    "p = scatter!([log(1.456)],[log10(ρChandra)],marker=:star5,color=:orange,label=\"\",markerstrokewidth=0.,markersize=6.)\n",
    "p = plot!(log(1.456).*ones(10),range(10.75,stop=16,length=10),ls=:dot,lw=2,label=\"\",color=:black)\n",
    "reprBH = [10,4.31e6,140e6,6.5e9]; reprRBH = RBH.(reprBH.*Msun)./(Rsunkm*1e5); reprρBH = reprBH.*Msun ./ (4/3*π*(reprRBH.*Rsunkm.*1e5).^3)#stellar mass, sag a*, andromeda, m87\n",
    "p = scatter!(log.(reprBH),log10.(reprρBH),marker=:circle,fill=false,label=\"\",color=:black)\n",
    "p = annotate!([(log(planets.M[3]),log10(planets.ρ[3])+1.2,Plots.text(\"Earth\",\"Times\",12,\"red\",rotation=90)),\n",
    "                (log(planets.M[5]),log10(planets.ρ[5])+1.4,Plots.text(\"Jupiter\",\"Times\",12,\"red\",rotation=90)),\n",
    "                (log(planets.M[9]),log10(planets.ρ[9])+1.2,Plots.text(\"Pluto\",\"Times\",12,\"red\",rotation=90)),\n",
    "                (log(moons.M[end])-0.15,log10(moons.ρ[end])+1.2,Plots.text(\"Moon\",\"Times\",12,\"aqua\",rotation=90)),\n",
    "                (log(moons.M[10])-0.15,log10(moons.ρ[10])+1.5,Plots.text(\"Titan\",\"Times\",12,\"aqua\",rotation=90)),\n",
    "                (log(moons.M[3])+0.15,log10(moons.ρ[3])+1.4,Plots.text(\"Ganymede\",\"Times\",12,\"aqua\",rotation=90)),\n",
    "                (log(reprBH[1])+2.,log10(reprρBH[1]),Plots.text(\"Stellar mass\",\"Times\",12,\"white\",rotation=0)),\n",
    "                (log(reprBH[2]),log10(reprρBH[2])+1.2,Plots.text(\"Sag A*\",\"Times\",12,\"white\",rotation=90)),\n",
    "                (log(reprBH[3]),log10(reprρBH[3])+1.4,Plots.text(\"Andromeda\",\"Times\",12,\"white\",:bold,rotation=90)),\n",
    "                (log(reprBH[4]),log10(reprρBH[4])+1.2,Plots.text(\"M87\",\"Times\",12,\"whit\",:bold,rotation=90)),\n",
    "                (0,1,Plots.text(\"Sun\",\"Times\",12,\"Gold\",:bold,rotation=90)),\n",
    "                (-1,1.5,Plots.text(\"α = 0.9\",\"Times\",12,\"white\",rotation=-41)),\n",
    "                (2,-0.9,Plots.text(\"α = 0.6\",\"Times\",12,\"white\",rotation=-22.5)),\n",
    "                (log(1.4),4.,Plots.text(\"n = 1.5 -> n = 3\",\"Times\",12,\"white\",rotation=0)),\n",
    "                (log(1.456)+3.,8.15,Plots.text(\"~ Chandresekar limit\",\"Times\",12,\"orange\",\"left\"))])\n",
    "p = plot!(background_color=:gray50,background_color_legend=:gray90,background_color_outside=:gray90,gridalpha=0.4,minorgridalpha=0.2)\n",
    "png(\"MassDensityAll.png\")"
   ]
  },
  {
   "cell_type": "code",
   "execution_count": null,
   "metadata": {},
   "outputs": [],
   "source": []
  }
 ],
 "metadata": {
  "kernelspec": {
   "display_name": "Julia 1.7.2",
   "language": "julia",
   "name": "julia-1.7"
  },
  "language_info": {
   "file_extension": ".jl",
   "mimetype": "application/julia",
   "name": "julia",
   "version": "1.7.2"
  },
  "varInspector": {
   "cols": {
    "lenName": 16,
    "lenType": 16,
    "lenVar": 40
   },
   "kernels_config": {
    "python": {
     "delete_cmd_postfix": "",
     "delete_cmd_prefix": "del ",
     "library": "var_list.py",
     "varRefreshCmd": "print(var_dic_list())"
    },
    "r": {
     "delete_cmd_postfix": ") ",
     "delete_cmd_prefix": "rm(",
     "library": "var_list.r",
     "varRefreshCmd": "cat(var_dic_list()) "
    }
   },
   "types_to_exclude": [
    "module",
    "function",
    "builtin_function_or_method",
    "instance",
    "_Feature"
   ],
   "window_display": false
  }
 },
 "nbformat": 4,
 "nbformat_minor": 2
}
